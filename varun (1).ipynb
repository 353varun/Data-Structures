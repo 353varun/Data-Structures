{
 "cells": [
  {
   "cell_type": "code",
   "execution_count": 2,
   "metadata": {},
   "outputs": [],
   "source": [
    "class Node:\n",
    "    def __init__(self,name,age):\n",
    "        self.name=name\n",
    "        self.age=age\n",
    "        self._next=None\n",
    "        self._prev=None\n",
    "        "
   ]
  },
  {
   "cell_type": "code",
   "execution_count": 4,
   "metadata": {},
   "outputs": [],
   "source": [
    "class family:\n",
    "    def __init__(self):\n",
    "        self.head=None\n",
    "        \n",
    "    def ins_mem(self,name,age):\n",
    "        member=Node(name,age)\n",
    "        if self.head is None:\n",
    "            self.head=member\n",
    "            return\n",
    "        temp=self.head\n",
    "        while(temp._next is not None):\n",
    "            temp=temp._next\n",
    "        temp._next=member\n",
    "        member._prev=temp\n",
    "        return\n",
    "    \n",
    "    def print_mem(self, head):\n",
    "        while(head is not None):\n",
    "            print(f\"Name={head.name} and age is={head.age}\")\n",
    "            head=head._next    \n",
    "            "
   ]
  },
  {
   "cell_type": "code",
   "execution_count": 5,
   "metadata": {},
   "outputs": [
    {
     "name": "stdout",
     "output_type": "stream",
     "text": [
      "Name=Manish Sharma and age is=46\n",
      "Name=Seema and age is=45\n",
      "Name=Varun and age is=19\n",
      "Name=Saurabh and age is=19\n"
     ]
    }
   ],
   "source": [
    "family_mem=family()\n",
    "\n",
    "family_mem.ins_mem(\"Manish Sharma\",46)\n",
    "family_mem.ins_mem(\"Seema\", 45)\n",
    "family_mem.ins_mem(\"Varun\",19)\n",
    "family_mem.ins_mem(\"Saurabh\",19)\n",
    "family_mem.print_mem(family_mem.head)"
   ]
  },
  {
   "cell_type": "code",
   "execution_count": null,
   "metadata": {},
   "outputs": [],
   "source": []
  },
  {
   "cell_type": "code",
   "execution_count": null,
   "metadata": {},
   "outputs": [],
   "source": []
  }
 ],
 "metadata": {
  "kernelspec": {
   "display_name": "Python 3.9.12 ('base')",
   "language": "python",
   "name": "python3"
  },
  "language_info": {
   "codemirror_mode": {
    "name": "ipython",
    "version": 3
   },
   "file_extension": ".py",
   "mimetype": "text/x-python",
   "name": "python",
   "nbconvert_exporter": "python",
   "pygments_lexer": "ipython3",
   "version": "3.9.12"
  },
  "orig_nbformat": 4,
  "vscode": {
   "interpreter": {
    "hash": "20a9e06a1eee47c4abbed4ec8225ad91d78d9800d202b71b6b0a6e47016c6abd"
   }
  }
 },
 "nbformat": 4,
 "nbformat_minor": 2
}
